{
 "cells": [
  {
   "cell_type": "code",
   "execution_count": 170,
   "metadata": {
    "scrolled": true
   },
   "outputs": [
    {
     "name": "stderr",
     "output_type": "stream",
     "text": [
      "UsageError: Line magic function `%confi` not found.\n"
     ]
    }
   ],
   "source": [
    "import xgboost as xgb\n",
    "import pandas as pd\n",
    "import numpy as np\n",
    "import pickle\n",
    "import sys\n",
    "import matplotlib.pyplot as plt\n",
    "from sklearn.linear_model import LogisticRegression\n",
    "from sklearn.ensemble import RandomForestClassifier\n",
    "from sklearn.preprocessing import StandardScaler\n",
    "from sklearn.model_selection import GridSearchCV\n",
    "from sklearn.model_selection import train_test_split\n",
    "\n",
    "from sklearn.metrics import mean_absolute_error, make_scorer\n",
    "from sklearn.metrics import roc_auc_score as AUC\n",
    "from sklearn.metrics import mean_absolute_error\n",
    "from sklearn.decomposition import PCA\n",
    "from sklearn.preprocessing import LabelEncoder, LabelBinarizer\n",
    "from xgboost import XGBRegressor\n",
    "\n",
    "import warnings\n",
    "warnings.filterwarnings('ignore')\n",
    "\n",
    "from scipy import stats\n",
    "from scipy.sparse import csr_matrix, hstack\n",
    "import seaborn as sns\n",
    "from copy import deepcopy\n",
    "\n",
    "%matplotlib inline\n",
    "%confi InlineBackend.figure_format = 'retina'"
   ]
  },
  {
   "cell_type": "code",
   "execution_count": null,
   "metadata": {},
   "outputs": [],
   "source": [
    "train = pd.read_csv('train.csv')\n",
    "test = pd.read_csv('test.csv')"
   ]
  },
  {
   "cell_type": "code",
   "execution_count": null,
   "metadata": {},
   "outputs": [],
   "source": [
    "train.shape"
   ]
  },
  {
   "cell_type": "markdown",
   "metadata": {},
   "source": [
    "188k rows，132 features"
   ]
  },
  {
   "cell_type": "code",
   "execution_count": 16,
   "metadata": {},
   "outputs": [
    {
     "name": "stdout",
     "output_type": "stream",
     "text": [
      "First 20 columns: ['id', 'cat1', 'cat2', 'cat3', 'cat4', 'cat5', 'cat6', 'cat7', 'cat8', 'cat9', 'cat10', 'cat11', 'cat12', 'cat13', 'cat14', 'cat15', 'cat16', 'cat17', 'cat18', 'cat19']\n",
      "Last 20 columns: ['cat112', 'cat113', 'cat114', 'cat115', 'cat116', 'cont1', 'cont2', 'cont3', 'cont4', 'cont5', 'cont6', 'cont7', 'cont8', 'cont9', 'cont10', 'cont11', 'cont12', 'cont13', 'cont14', 'loss']\n"
     ]
    }
   ],
   "source": [
    "print ('First 20 columns:', list(train.columns[:20]))\n",
    "print('Last 20 columns:', list(train.columns[-20:]))"
   ]
  },
  {
   "cell_type": "markdown",
   "metadata": {},
   "source": [
    "116 catergorical, 14 continuous。In addition ID and loss，132 columns in total"
   ]
  },
  {
   "cell_type": "code",
   "execution_count": 17,
   "metadata": {},
   "outputs": [
    {
     "data": {
      "text/html": [
       "<div>\n",
       "<style scoped>\n",
       "    .dataframe tbody tr th:only-of-type {\n",
       "        vertical-align: middle;\n",
       "    }\n",
       "\n",
       "    .dataframe tbody tr th {\n",
       "        vertical-align: top;\n",
       "    }\n",
       "\n",
       "    .dataframe thead th {\n",
       "        text-align: right;\n",
       "    }\n",
       "</style>\n",
       "<table border=\"1\" class=\"dataframe\">\n",
       "  <thead>\n",
       "    <tr style=\"text-align: right;\">\n",
       "      <th></th>\n",
       "      <th>id</th>\n",
       "      <th>cont1</th>\n",
       "      <th>cont2</th>\n",
       "      <th>cont3</th>\n",
       "      <th>cont4</th>\n",
       "      <th>cont5</th>\n",
       "      <th>cont6</th>\n",
       "      <th>cont7</th>\n",
       "      <th>cont8</th>\n",
       "      <th>cont9</th>\n",
       "      <th>cont10</th>\n",
       "      <th>cont11</th>\n",
       "      <th>cont12</th>\n",
       "      <th>cont13</th>\n",
       "      <th>cont14</th>\n",
       "      <th>loss</th>\n",
       "    </tr>\n",
       "  </thead>\n",
       "  <tbody>\n",
       "    <tr>\n",
       "      <th>count</th>\n",
       "      <td>188318.000000</td>\n",
       "      <td>188318.000000</td>\n",
       "      <td>188318.000000</td>\n",
       "      <td>188318.000000</td>\n",
       "      <td>188318.000000</td>\n",
       "      <td>188318.000000</td>\n",
       "      <td>188318.000000</td>\n",
       "      <td>188318.000000</td>\n",
       "      <td>188318.000000</td>\n",
       "      <td>188318.000000</td>\n",
       "      <td>188318.000000</td>\n",
       "      <td>188318.000000</td>\n",
       "      <td>188318.000000</td>\n",
       "      <td>188318.000000</td>\n",
       "      <td>188318.000000</td>\n",
       "      <td>188318.000000</td>\n",
       "    </tr>\n",
       "    <tr>\n",
       "      <th>mean</th>\n",
       "      <td>294135.982561</td>\n",
       "      <td>0.493861</td>\n",
       "      <td>0.507188</td>\n",
       "      <td>0.498918</td>\n",
       "      <td>0.491812</td>\n",
       "      <td>0.487428</td>\n",
       "      <td>0.490945</td>\n",
       "      <td>0.484970</td>\n",
       "      <td>0.486437</td>\n",
       "      <td>0.485506</td>\n",
       "      <td>0.498066</td>\n",
       "      <td>0.493511</td>\n",
       "      <td>0.493150</td>\n",
       "      <td>0.493138</td>\n",
       "      <td>0.495717</td>\n",
       "      <td>3037.337686</td>\n",
       "    </tr>\n",
       "    <tr>\n",
       "      <th>std</th>\n",
       "      <td>169336.084867</td>\n",
       "      <td>0.187640</td>\n",
       "      <td>0.207202</td>\n",
       "      <td>0.202105</td>\n",
       "      <td>0.211292</td>\n",
       "      <td>0.209027</td>\n",
       "      <td>0.205273</td>\n",
       "      <td>0.178450</td>\n",
       "      <td>0.199370</td>\n",
       "      <td>0.181660</td>\n",
       "      <td>0.185877</td>\n",
       "      <td>0.209737</td>\n",
       "      <td>0.209427</td>\n",
       "      <td>0.212777</td>\n",
       "      <td>0.222488</td>\n",
       "      <td>2904.086186</td>\n",
       "    </tr>\n",
       "    <tr>\n",
       "      <th>min</th>\n",
       "      <td>1.000000</td>\n",
       "      <td>0.000016</td>\n",
       "      <td>0.001149</td>\n",
       "      <td>0.002634</td>\n",
       "      <td>0.176921</td>\n",
       "      <td>0.281143</td>\n",
       "      <td>0.012683</td>\n",
       "      <td>0.069503</td>\n",
       "      <td>0.236880</td>\n",
       "      <td>0.000080</td>\n",
       "      <td>0.000000</td>\n",
       "      <td>0.035321</td>\n",
       "      <td>0.036232</td>\n",
       "      <td>0.000228</td>\n",
       "      <td>0.179722</td>\n",
       "      <td>0.670000</td>\n",
       "    </tr>\n",
       "    <tr>\n",
       "      <th>25%</th>\n",
       "      <td>147748.250000</td>\n",
       "      <td>0.346090</td>\n",
       "      <td>0.358319</td>\n",
       "      <td>0.336963</td>\n",
       "      <td>0.327354</td>\n",
       "      <td>0.281143</td>\n",
       "      <td>0.336105</td>\n",
       "      <td>0.350175</td>\n",
       "      <td>0.312800</td>\n",
       "      <td>0.358970</td>\n",
       "      <td>0.364580</td>\n",
       "      <td>0.310961</td>\n",
       "      <td>0.311661</td>\n",
       "      <td>0.315758</td>\n",
       "      <td>0.294610</td>\n",
       "      <td>1204.460000</td>\n",
       "    </tr>\n",
       "    <tr>\n",
       "      <th>50%</th>\n",
       "      <td>294539.500000</td>\n",
       "      <td>0.475784</td>\n",
       "      <td>0.555782</td>\n",
       "      <td>0.527991</td>\n",
       "      <td>0.452887</td>\n",
       "      <td>0.422268</td>\n",
       "      <td>0.440945</td>\n",
       "      <td>0.438285</td>\n",
       "      <td>0.441060</td>\n",
       "      <td>0.441450</td>\n",
       "      <td>0.461190</td>\n",
       "      <td>0.457203</td>\n",
       "      <td>0.462286</td>\n",
       "      <td>0.363547</td>\n",
       "      <td>0.407403</td>\n",
       "      <td>2115.570000</td>\n",
       "    </tr>\n",
       "    <tr>\n",
       "      <th>75%</th>\n",
       "      <td>440680.500000</td>\n",
       "      <td>0.623912</td>\n",
       "      <td>0.681761</td>\n",
       "      <td>0.634224</td>\n",
       "      <td>0.652072</td>\n",
       "      <td>0.643315</td>\n",
       "      <td>0.655021</td>\n",
       "      <td>0.591045</td>\n",
       "      <td>0.623580</td>\n",
       "      <td>0.566820</td>\n",
       "      <td>0.614590</td>\n",
       "      <td>0.678924</td>\n",
       "      <td>0.675759</td>\n",
       "      <td>0.689974</td>\n",
       "      <td>0.724623</td>\n",
       "      <td>3864.045000</td>\n",
       "    </tr>\n",
       "    <tr>\n",
       "      <th>max</th>\n",
       "      <td>587633.000000</td>\n",
       "      <td>0.984975</td>\n",
       "      <td>0.862654</td>\n",
       "      <td>0.944251</td>\n",
       "      <td>0.954297</td>\n",
       "      <td>0.983674</td>\n",
       "      <td>0.997162</td>\n",
       "      <td>1.000000</td>\n",
       "      <td>0.980200</td>\n",
       "      <td>0.995400</td>\n",
       "      <td>0.994980</td>\n",
       "      <td>0.998742</td>\n",
       "      <td>0.998484</td>\n",
       "      <td>0.988494</td>\n",
       "      <td>0.844848</td>\n",
       "      <td>121012.250000</td>\n",
       "    </tr>\n",
       "  </tbody>\n",
       "</table>\n",
       "</div>"
      ],
      "text/plain": [
       "                  id          cont1          cont2          cont3  \\\n",
       "count  188318.000000  188318.000000  188318.000000  188318.000000   \n",
       "mean   294135.982561       0.493861       0.507188       0.498918   \n",
       "std    169336.084867       0.187640       0.207202       0.202105   \n",
       "min         1.000000       0.000016       0.001149       0.002634   \n",
       "25%    147748.250000       0.346090       0.358319       0.336963   \n",
       "50%    294539.500000       0.475784       0.555782       0.527991   \n",
       "75%    440680.500000       0.623912       0.681761       0.634224   \n",
       "max    587633.000000       0.984975       0.862654       0.944251   \n",
       "\n",
       "               cont4          cont5          cont6          cont7  \\\n",
       "count  188318.000000  188318.000000  188318.000000  188318.000000   \n",
       "mean        0.491812       0.487428       0.490945       0.484970   \n",
       "std         0.211292       0.209027       0.205273       0.178450   \n",
       "min         0.176921       0.281143       0.012683       0.069503   \n",
       "25%         0.327354       0.281143       0.336105       0.350175   \n",
       "50%         0.452887       0.422268       0.440945       0.438285   \n",
       "75%         0.652072       0.643315       0.655021       0.591045   \n",
       "max         0.954297       0.983674       0.997162       1.000000   \n",
       "\n",
       "               cont8          cont9         cont10         cont11  \\\n",
       "count  188318.000000  188318.000000  188318.000000  188318.000000   \n",
       "mean        0.486437       0.485506       0.498066       0.493511   \n",
       "std         0.199370       0.181660       0.185877       0.209737   \n",
       "min         0.236880       0.000080       0.000000       0.035321   \n",
       "25%         0.312800       0.358970       0.364580       0.310961   \n",
       "50%         0.441060       0.441450       0.461190       0.457203   \n",
       "75%         0.623580       0.566820       0.614590       0.678924   \n",
       "max         0.980200       0.995400       0.994980       0.998742   \n",
       "\n",
       "              cont12         cont13         cont14           loss  \n",
       "count  188318.000000  188318.000000  188318.000000  188318.000000  \n",
       "mean        0.493150       0.493138       0.495717    3037.337686  \n",
       "std         0.209427       0.212777       0.222488    2904.086186  \n",
       "min         0.036232       0.000228       0.179722       0.670000  \n",
       "25%         0.311661       0.315758       0.294610    1204.460000  \n",
       "50%         0.462286       0.363547       0.407403    2115.570000  \n",
       "75%         0.675759       0.689974       0.724623    3864.045000  \n",
       "max         0.998484       0.988494       0.844848  121012.250000  "
      ]
     },
     "execution_count": 17,
     "metadata": {},
     "output_type": "execute_result"
    }
   ],
   "source": [
    "train.describe()"
   ]
  },
  {
   "cell_type": "markdown",
   "metadata": {},
   "source": [
    "Feature_engineered"
   ]
  },
  {
   "cell_type": "markdown",
   "metadata": {},
   "source": [
    "Take a look at the missing values"
   ]
  },
  {
   "cell_type": "code",
   "execution_count": 18,
   "metadata": {},
   "outputs": [
    {
     "data": {
      "text/plain": [
       "False"
      ]
     },
     "execution_count": 18,
     "metadata": {},
     "output_type": "execute_result"
    }
   ],
   "source": [
    "pd.isnull(train).values.any()"
   ]
  },
  {
   "cell_type": "markdown",
   "metadata": {},
   "source": [
    "No missing values"
   ]
  },
  {
   "cell_type": "markdown",
   "metadata": {},
   "source": [
    "another way to see the division to categorical and continuous features is to pd.DataFrame.info method"
   ]
  },
  {
   "cell_type": "code",
   "execution_count": 19,
   "metadata": {},
   "outputs": [
    {
     "name": "stdout",
     "output_type": "stream",
     "text": [
      "<class 'pandas.core.frame.DataFrame'>\n",
      "RangeIndex: 188318 entries, 0 to 188317\n",
      "Columns: 132 entries, id to loss\n",
      "dtypes: float64(15), int64(1), object(116)\n",
      "memory usage: 189.7+ MB\n"
     ]
    }
   ],
   "source": [
    "train.info()"
   ]
  },
  {
   "cell_type": "markdown",
   "metadata": {},
   "source": [
    "Here，float64 (15) is the continuous features\n",
    "int61(1), object(116) are the categorical features"
   ]
  },
  {
   "cell_type": "code",
   "execution_count": 31,
   "metadata": {},
   "outputs": [
    {
     "name": "stdout",
     "output_type": "stream",
     "text": [
      "categorical: 116 features\n"
     ]
    }
   ],
   "source": [
    "cat_features = list(train.select_dtypes(include=['object']).columns)\n",
    "print(\"categorical: {} features\".format(len(cat_features)))"
   ]
  },
  {
   "cell_type": "code",
   "execution_count": 67,
   "metadata": {},
   "outputs": [
    {
     "name": "stdout",
     "output_type": "stream",
     "text": [
      "continuos: 14 features\n",
      "['cont1', 'cont2', 'cont3', 'cont4', 'cont5', 'cont6', 'cont7', 'cont8', 'cont9', 'cont10', 'cont11', 'cont12', 'cont13', 'cont14']\n"
     ]
    }
   ],
   "source": [
    "cont_features = [cont for cont in list(train.select_dtypes(\n",
    "    include=['float64', 'int64']).columns) if cont not in ['loss','id']]\n",
    "print(\"continuos: {} features\".format(len(cont_features)))\n",
    "print(cont_features)"
   ]
  },
  {
   "cell_type": "code",
   "execution_count": 33,
   "metadata": {},
   "outputs": [
    {
     "name": "stdout",
     "output_type": "stream",
     "text": [
      "A column of int64: ['id']\n"
     ]
    }
   ],
   "source": [
    "id_col = list(train.select_dtypes(include=['int64']).columns)\n",
    "print(\"A column of int64: {}\".format(id_col))"
   ]
  },
  {
   "cell_type": "markdown",
   "metadata": {},
   "source": [
    "Number of attributes in one specific feature"
   ]
  },
  {
   "cell_type": "code",
   "execution_count": 51,
   "metadata": {},
   "outputs": [
    {
     "name": "stdout",
     "output_type": "stream",
     "text": [
      "[2, 2, 2, 2, 2, 2, 2, 2, 2, 2, 2, 2, 2, 2, 2, 2, 2, 2, 2, 2, 2, 2, 2, 2, 2, 2, 2, 2, 2, 2, 2, 2, 2, 2, 2, 2, 2, 2, 2, 2, 2, 2, 2, 2, 2, 2, 2, 2, 2, 2, 2, 2, 2, 2, 2, 2, 2, 2, 2, 2, 2, 2, 2, 2, 2, 2, 2, 2, 2, 2, 2, 2, 3, 3, 3, 3, 4, 4, 4, 4, 4, 4, 4, 4, 4, 4, 4, 4, 8, 7, 8, 7, 5, 7, 5, 8, 7, 5, 16, 15, 19, 9, 13, 17, 20, 17, 20, 11, 84, 131, 16, 51, 61, 19, 23, 326]\n"
     ]
    }
   ],
   "source": [
    "cat_uniques = []\n",
    "for cat in cat_features:\n",
    "    cat_uniques.append(len(train[cat].unique()))\n",
    "    \n",
    "print(cat_uniques)\n",
    "\n",
    "uniq_values_in_categories = pd.DataFrame.from_dict(dict([('cat_name', cat_features),\n",
    "                                                      ('unique_values', cat_uniques)]))"
   ]
  },
  {
   "cell_type": "code",
   "execution_count": 52,
   "metadata": {},
   "outputs": [
    {
     "data": {
      "text/html": [
       "<div>\n",
       "<style scoped>\n",
       "    .dataframe tbody tr th:only-of-type {\n",
       "        vertical-align: middle;\n",
       "    }\n",
       "\n",
       "    .dataframe tbody tr th {\n",
       "        vertical-align: top;\n",
       "    }\n",
       "\n",
       "    .dataframe thead th {\n",
       "        text-align: right;\n",
       "    }\n",
       "</style>\n",
       "<table border=\"1\" class=\"dataframe\">\n",
       "  <thead>\n",
       "    <tr style=\"text-align: right;\">\n",
       "      <th></th>\n",
       "      <th>cat_name</th>\n",
       "      <th>unique_values</th>\n",
       "    </tr>\n",
       "  </thead>\n",
       "  <tbody>\n",
       "    <tr>\n",
       "      <th>0</th>\n",
       "      <td>cat1</td>\n",
       "      <td>2</td>\n",
       "    </tr>\n",
       "    <tr>\n",
       "      <th>1</th>\n",
       "      <td>cat2</td>\n",
       "      <td>2</td>\n",
       "    </tr>\n",
       "    <tr>\n",
       "      <th>2</th>\n",
       "      <td>cat3</td>\n",
       "      <td>2</td>\n",
       "    </tr>\n",
       "    <tr>\n",
       "      <th>3</th>\n",
       "      <td>cat4</td>\n",
       "      <td>2</td>\n",
       "    </tr>\n",
       "    <tr>\n",
       "      <th>4</th>\n",
       "      <td>cat5</td>\n",
       "      <td>2</td>\n",
       "    </tr>\n",
       "    <tr>\n",
       "      <th>5</th>\n",
       "      <td>cat6</td>\n",
       "      <td>2</td>\n",
       "    </tr>\n",
       "    <tr>\n",
       "      <th>6</th>\n",
       "      <td>cat7</td>\n",
       "      <td>2</td>\n",
       "    </tr>\n",
       "    <tr>\n",
       "      <th>7</th>\n",
       "      <td>cat8</td>\n",
       "      <td>2</td>\n",
       "    </tr>\n",
       "    <tr>\n",
       "      <th>8</th>\n",
       "      <td>cat9</td>\n",
       "      <td>2</td>\n",
       "    </tr>\n",
       "    <tr>\n",
       "      <th>9</th>\n",
       "      <td>cat10</td>\n",
       "      <td>2</td>\n",
       "    </tr>\n",
       "  </tbody>\n",
       "</table>\n",
       "</div>"
      ],
      "text/plain": [
       "  cat_name  unique_values\n",
       "0     cat1              2\n",
       "1     cat2              2\n",
       "2     cat3              2\n",
       "3     cat4              2\n",
       "4     cat5              2\n",
       "5     cat6              2\n",
       "6     cat7              2\n",
       "7     cat8              2\n",
       "8     cat9              2\n",
       "9    cat10              2"
      ]
     },
     "execution_count": 52,
     "metadata": {},
     "output_type": "execute_result"
    }
   ],
   "source": [
    "uniq_values_in_categories.head(10)"
   ]
  },
  {
   "cell_type": "code",
   "execution_count": 55,
   "metadata": {},
   "outputs": [
    {
     "data": {
      "text/plain": [
       "Text(7, 71, 'Binary features')"
      ]
     },
     "execution_count": 55,
     "metadata": {},
     "output_type": "execute_result"
    },
    {
     "data": {
      "image/png": "[encoded data removed]",
      "text/plain": [
       "<Figure size 1152x360 with 2 Axes>"
      ]
     },
     "metadata": {
      "needs_background": "light"
     },
     "output_type": "display_data"
    }
   ],
   "source": [
    "fig, (ax1, ax2) = plt.subplots(1,2)\n",
    "fig.set_size_inches(16,5)\n",
    "ax1.hist(uniq_values_in_categories.unique_values, bins=50)\n",
    "ax1.set_title(\"Amount of categorical features with X distinct values\")\n",
    "ax1.set_xlabel(\"Distinct values in a feature\")\n",
    "ax1.set_ylabel(\"Features\")\n",
    "ax1.annotate(\"A feature with 326 vals\", xy=(322,2), xytext=(200,38), arrowprops=dict(facecolor='black'))\n",
    "\n",
    "ax2.set_xlim(2,30)\n",
    "ax2.set_title(\"zooming in the [0,30] part of left histogram\")\n",
    "ax2.set_xlabel(\"Distinct values in a feature\")\n",
    "ax2.set_ylabel(\"Features\")\n",
    "ax2.grid(True)\n",
    "ax2.hist(uniq_values_in_categories[uniq_values_in_categories.unique_values<=30].unique_values, bins=30)\n",
    "ax2.annotate(\"Binary features\", xy=(3,71), xytext=(7,71), arrowprops=dict(facecolor='black'))"
   ]
  },
  {
   "cell_type": "markdown",
   "metadata": {},
   "source": [
    "most categorical features have only two values, some of them have four values, and one of them has 326 values."
   ]
  },
  {
   "cell_type": "markdown",
   "metadata": {},
   "source": [
    "# Loss"
   ]
  },
  {
   "cell_type": "code",
   "execution_count": 58,
   "metadata": {},
   "outputs": [
    {
     "name": "stderr",
     "output_type": "stream",
     "text": [
      "No handles with labels found to put in legend.\n"
     ]
    },
    {
     "data": {
      "image/png": "[encoded data removed]",
      "text/plain": [
       "<Figure size 1152x576 with 1 Axes>"
      ]
     },
     "metadata": {
      "needs_background": "light"
     },
     "output_type": "display_data"
    }
   ],
   "source": [
    "plt.figure(figsize=(16,8))\n",
    "plt.plot(train['id'],train['loss'])\n",
    "plt.title(\"Loss Values per id\")\n",
    "plt.xlabel('id')\n",
    "plt.ylabel('loss')\n",
    "plt.legend()\n",
    "plt.show()"
   ]
  },
  {
   "cell_type": "markdown",
   "metadata": {},
   "source": [
    "The data from the loss column is irregular and inclined, let's calculate its skewness"
   ]
  },
  {
   "cell_type": "code",
   "execution_count": 59,
   "metadata": {},
   "outputs": [
    {
     "data": {
      "text/plain": [
       "array(3.79492815)"
      ]
     },
     "execution_count": 59,
     "metadata": {},
     "output_type": "execute_result"
    }
   ],
   "source": [
    "stats.mstats.skew(train['loss']).data"
   ]
  },
  {
   "cell_type": "markdown",
   "metadata": {},
   "source": [
    "Take np.log to see what will happen, "
   ]
  },
  {
   "cell_type": "code",
   "execution_count": 60,
   "metadata": {},
   "outputs": [
    {
     "data": {
      "text/plain": [
       "array(0.0929738)"
      ]
     },
     "execution_count": 60,
     "metadata": {},
     "output_type": "execute_result"
    }
   ],
   "source": [
    "stats.mstats.skew(np.log(train['loss'])).data"
   ]
  },
  {
   "cell_type": "code",
   "execution_count": 63,
   "metadata": {},
   "outputs": [
    {
     "data": {
      "image/png": "[encoded data removed]",
      "text/plain": [
       "<Figure size 1152x360 with 2 Axes>"
      ]
     },
     "metadata": {
      "needs_background": "light"
     },
     "output_type": "display_data"
    }
   ],
   "source": [
    "fig, (ax1, ax2) = plt.subplots(1,2)\n",
    "fig.set_size_inches(16,5)\n",
    "ax1.hist(train['loss'], bins=50)\n",
    "ax1.set_title(\"Train Loss target historam\")\n",
    "ax1.grid(True)\n",
    "\n",
    "ax2.hist(np.log(train['loss']), bins=50, color = 'g')\n",
    "ax2.set_title('Train Log Loss target histogram')\n",
    "ax2.grid(True)\n",
    "\n",
    "plt.show()"
   ]
  },
  {
   "cell_type": "markdown",
   "metadata": {},
   "source": [
    "# Cont Features\n",
    "one thing we can do is to plot histogram of te numerical features and analyze\n",
    "their distributions:"
   ]
  },
  {
   "cell_type": "code",
   "execution_count": 68,
   "metadata": {},
   "outputs": [
    {
     "data": {
      "text/plain": [
       "['cont1',\n",
       " 'cont2',\n",
       " 'cont3',\n",
       " 'cont4',\n",
       " 'cont5',\n",
       " 'cont6',\n",
       " 'cont7',\n",
       " 'cont8',\n",
       " 'cont9',\n",
       " 'cont10',\n",
       " 'cont11',\n",
       " 'cont12',\n",
       " 'cont13',\n",
       " 'cont14']"
      ]
     },
     "execution_count": 68,
     "metadata": {},
     "output_type": "execute_result"
    }
   ],
   "source": [
    "cont_features"
   ]
  },
  {
   "cell_type": "code",
   "execution_count": 66,
   "metadata": {},
   "outputs": [
    {
     "data": {
      "text/plain": [
       "array([[<matplotlib.axes._subplots.AxesSubplot object at 0x0000029201C84588>,\n",
       "        <matplotlib.axes._subplots.AxesSubplot object at 0x0000029201C4A548>,\n",
       "        <matplotlib.axes._subplots.AxesSubplot object at 0x00000292021FD408>,\n",
       "        <matplotlib.axes._subplots.AxesSubplot object at 0x0000029202212E08>],\n",
       "       [<matplotlib.axes._subplots.AxesSubplot object at 0x0000029201DDA808>,\n",
       "        <matplotlib.axes._subplots.AxesSubplot object at 0x0000029201DFF208>,\n",
       "        <matplotlib.axes._subplots.AxesSubplot object at 0x0000029201E35BC8>,\n",
       "        <matplotlib.axes._subplots.AxesSubplot object at 0x0000029201E6F608>],\n",
       "       [<matplotlib.axes._subplots.AxesSubplot object at 0x0000029201E7B148>,\n",
       "        <matplotlib.axes._subplots.AxesSubplot object at 0x0000029201EAFF08>,\n",
       "        <matplotlib.axes._subplots.AxesSubplot object at 0x0000029201F184C8>,\n",
       "        <matplotlib.axes._subplots.AxesSubplot object at 0x0000029201F51548>],\n",
       "       [<matplotlib.axes._subplots.AxesSubplot object at 0x0000029201F91E48>,\n",
       "        <matplotlib.axes._subplots.AxesSubplot object at 0x0000029201FC5788>,\n",
       "        <matplotlib.axes._subplots.AxesSubplot object at 0x0000029201FFE888>,\n",
       "        <matplotlib.axes._subplots.AxesSubplot object at 0x0000029202036A48>]],\n",
       "      dtype=object)"
      ]
     },
     "execution_count": 66,
     "metadata": {},
     "output_type": "execute_result"
    },
    {
     "data": {
      "image/png": "[encoded data removed]",
      "text/plain": [
       "<Figure size 1152x864 with 16 Axes>"
      ]
     },
     "metadata": {
      "needs_background": "light"
     },
     "output_type": "display_data"
    }
   ],
   "source": [
    "train[cont_features].hist(bins=50,figsize=(16,12))"
   ]
  },
  {
   "cell_type": "markdown",
   "metadata": {},
   "source": [
    "# Correlation between features"
   ]
  },
  {
   "cell_type": "code",
   "execution_count": 70,
   "metadata": {},
   "outputs": [
    {
     "data": {
      "text/plain": [
       "<matplotlib.axes._subplots.AxesSubplot at 0x29202b0b2c8>"
      ]
     },
     "execution_count": 70,
     "metadata": {},
     "output_type": "execute_result"
    },
    {
     "data": {
      "image/png": "[encoded data removed]",
      "text/plain": [
       "<Figure size 1152x648 with 2 Axes>"
      ]
     },
     "metadata": {
      "needs_background": "light"
     },
     "output_type": "display_data"
    }
   ],
   "source": [
    "plt.subplots(figsize=(16,9))\n",
    "correlation_mat = train[cont_features].corr()\n",
    "sns.heatmap(correlation_mat, annot=True)"
   ]
  },
  {
   "cell_type": "markdown",
   "metadata": {},
   "source": [
    "in this way, we can take away some features which are highly related to reduce the dimensionality"
   ]
  },
  {
   "cell_type": "markdown",
   "metadata": {},
   "source": [
    "# Data Preprocessing"
   ]
  },
  {
   "cell_type": "code",
   "execution_count": 80,
   "metadata": {},
   "outputs": [],
   "source": [
    "train = pd.read_csv('train.csv')"
   ]
  },
  {
   "cell_type": "markdown",
   "metadata": {},
   "source": [
    "np.log change"
   ]
  },
  {
   "cell_type": "code",
   "execution_count": 81,
   "metadata": {},
   "outputs": [],
   "source": [
    "train['log_loss']=np.log(train['loss'])"
   ]
  },
  {
   "cell_type": "markdown",
   "metadata": {},
   "source": [
    "sepate the features into cont features and categorical features"
   ]
  },
  {
   "cell_type": "code",
   "execution_count": 83,
   "metadata": {},
   "outputs": [
    {
     "name": "stdout",
     "output_type": "stream",
     "text": [
      "['cat1', 'cat2', 'cat3', 'cat4', 'cat5', 'cat6', 'cat7', 'cat8', 'cat9', 'cat10', 'cat11', 'cat12', 'cat13', 'cat14', 'cat15', 'cat16', 'cat17', 'cat18', 'cat19', 'cat20', 'cat21', 'cat22', 'cat23', 'cat24', 'cat25', 'cat26', 'cat27', 'cat28', 'cat29', 'cat30', 'cat31', 'cat32', 'cat33', 'cat34', 'cat35', 'cat36', 'cat37', 'cat38', 'cat39', 'cat40', 'cat41', 'cat42', 'cat43', 'cat44', 'cat45', 'cat46', 'cat47', 'cat48', 'cat49', 'cat50', 'cat51', 'cat52', 'cat53', 'cat54', 'cat55', 'cat56', 'cat57', 'cat58', 'cat59', 'cat60', 'cat61', 'cat62', 'cat63', 'cat64', 'cat65', 'cat66', 'cat67', 'cat68', 'cat69', 'cat70', 'cat71', 'cat72', 'cat73', 'cat74', 'cat75', 'cat76', 'cat77', 'cat78', 'cat79', 'cat80', 'cat81', 'cat82', 'cat83', 'cat84', 'cat85', 'cat86', 'cat87', 'cat88', 'cat89', 'cat90', 'cat91', 'cat92', 'cat93', 'cat94', 'cat95', 'cat96', 'cat97', 'cat98', 'cat99', 'cat100', 'cat101', 'cat102', 'cat103', 'cat104', 'cat105', 'cat106', 'cat107', 'cat108', 'cat109', 'cat110', 'cat111', 'cat112', 'cat113', 'cat114', 'cat115', 'cat116', 'cont1', 'cont2', 'cont3', 'cont4', 'cont5', 'cont6', 'cont7', 'cont8', 'cont9', 'cont10', 'cont11', 'cont12', 'cont13', 'cont14']\n"
     ]
    }
   ],
   "source": [
    "features = [x for x in train.columns if x not in ['id','loss','log_loss']]\n",
    "print (features)"
   ]
  },
  {
   "cell_type": "code",
   "execution_count": 84,
   "metadata": {},
   "outputs": [
    {
     "name": "stdout",
     "output_type": "stream",
     "text": [
      "categorical features 116\n",
      "Numerical features: 14\n"
     ]
    }
   ],
   "source": [
    "cat_features = [x for x in train.select_dtypes(include=['object']).columns\n",
    "                if x not in ['id','loss','log_loss']]\n",
    "num_features = [x for x in train.select_dtypes(exclude=['object']).columns\n",
    "               if x not in ['id','loss','log_loss']]\n",
    "\n",
    "print(\"categorical features\", len(cat_features))\n",
    "print(\"Numerical features:\", len(num_features))\n"
   ]
  },
  {
   "cell_type": "markdown",
   "metadata": {},
   "source": [
    "And use a label encoder for categorical features:\n",
    "    "
   ]
  },
  {
   "cell_type": "code",
   "execution_count": 85,
   "metadata": {},
   "outputs": [
    {
     "name": "stdout",
     "output_type": "stream",
     "text": [
      "Xtrain: (188318, 130)\n",
      "ytrain: (188318,)\n"
     ]
    }
   ],
   "source": [
    "ntrain = train.shape[0]\n",
    "\n",
    "train_x = train[features]\n",
    "train_y = train['log_loss']\n",
    "\n",
    "for c in range(len(cat_features)):\n",
    "    train_x[cat_features[c]] = train_x[cat_features[c]].astype('category').cat.codes\n",
    "\n",
    "print(\"Xtrain:\", train_x.shape)\n",
    "print(\"ytrain:\", train_y.shape)"
   ]
  },
  {
   "cell_type": "markdown",
   "metadata": {},
   "source": [
    "# Simple XGBoost Model\n",
    "\n",
    "first, we build a basic xgboost model, then we change the hyperparameters in the gridsearch to see what will be altered in the final output results. Here we use mean_absolute_error(np.exp(y)  to for the results evaluation\n"
   ]
  },
  {
   "cell_type": "code",
   "execution_count": 86,
   "metadata": {},
   "outputs": [],
   "source": [
    "def xg_eval_mae(yhat, dtrain):\n",
    "    y=dtrain.get_label()\n",
    "    return'mae', mean_absolute_error(np.exp(y), np.exp(yhat))"
   ]
  },
  {
   "cell_type": "markdown",
   "metadata": {},
   "source": [
    "# Model\n"
   ]
  },
  {
   "cell_type": "code",
   "execution_count": 87,
   "metadata": {},
   "outputs": [],
   "source": [
    "dtrain = xgb.DMatrix(train_x, train['log_loss'])\n",
    "#transfer the data(train_x, train_y) into a format of DMatrix which is supported by xgboost"
   ]
  },
  {
   "cell_type": "markdown",
   "metadata": {},
   "source": [
    "# Xgboost hyperparameters"
   ]
  },
  {
   "cell_type": "markdown",
   "metadata": {},
   "source": [
    "'booster':'gbtree'\n",
    "\n",
    "'objective':'multi:softmax',mutli-categorical problems\n",
    "\n",
    "'num_class':10,\n",
    "\n",
    "'gamma':0.5\n",
    "\n",
    "'max_depth':12,\n",
    "\n",
    "'lambda':2,\n",
    "\n",
    "'subsample':0.7,\n",
    "\n",
    "'colsample_bytree':0.7,\n",
    "\n",
    "'min_child_weight':3,\n",
    "\n",
    "'silent':0, \n",
    "\n",
    "'eta': 0.007 \n",
    "\n",
    "'seed':1000\n",
    "\n",
    "'nthread':7, \n",
    "\n"
   ]
  },
  {
   "cell_type": "code",
   "execution_count": 88,
   "metadata": {},
   "outputs": [],
   "source": [
    "xgb_params = {\n",
    "    'seed':0,\n",
    "    'eta':0.1,\n",
    "    'colsample_bytree':0.5,\n",
    "    'silent':1,\n",
    "    'subsample':0.5,\n",
    "    'objective':'reg:linear',\n",
    "    'max_depth':5,\n",
    "    'min_child_weight':3\n",
    "    }"
   ]
  },
  {
   "cell_type": "markdown",
   "metadata": {},
   "source": [
    "use xgb.cv"
   ]
  },
  {
   "cell_type": "code",
   "execution_count": 95,
   "metadata": {},
   "outputs": [
    {
     "name": "stdout",
     "output_type": "stream",
     "text": [
      "CV score: 1220.1099446666667\n",
      "Wall time: 42.2 s\n"
     ]
    }
   ],
   "source": [
    "%%time\n",
    "bst_cvl = xgb.cv(xgb_params, dtrain, num_boost_round=50, nfold=3, seed=0,\n",
    "                feval=xg_eval_mae, maximize=False, early_stopping_rounds=10)\n",
    "\n",
    "print ('CV score:', bst_cvl.iloc[-1,:]['test-mae-mean'])"
   ]
  },
  {
   "cell_type": "markdown",
   "metadata": {},
   "source": [
    "here we get the first evaluation result：MAE= 1218.9"
   ]
  },
  {
   "cell_type": "code",
   "execution_count": 96,
   "metadata": {},
   "outputs": [
    {
     "data": {
      "text/plain": [
       "<matplotlib.axes._subplots.AxesSubplot at 0x2920034a408>"
      ]
     },
     "execution_count": 96,
     "metadata": {},
     "output_type": "execute_result"
    },
    {
     "data": {
      "text/plain": [
       "<Figure size 432x288 with 0 Axes>"
      ]
     },
     "metadata": {},
     "output_type": "display_data"
    },
    {
     "data": {
      "image/png": "[encoded data removed]",
      "text/plain": [
       "<Figure size 432x288 with 1 Axes>"
      ]
     },
     "metadata": {
      "needs_background": "light"
     },
     "output_type": "display_data"
    }
   ],
   "source": [
    "plt.figure()\n",
    "bst_cvl[['train-mae-mean','test-mae-mean']].plot()"
   ]
  },
  {
   "cell_type": "markdown",
   "metadata": {},
   "source": [
    "num_boost_round = 100, no over-fitting"
   ]
  },
  {
   "cell_type": "code",
   "execution_count": 100,
   "metadata": {},
   "outputs": [
    {
     "name": "stdout",
     "output_type": "stream",
     "text": [
      "CV score: 1172.059570333333\n",
      "Wall time: 1min 19s\n"
     ]
    }
   ],
   "source": [
    "%%time\n",
    "bst_cv2=xgb.cv(xgb_params, dtrain, num_boost_round=100,\n",
    "              nfold=3, seed=0, feval=xg_eval_mae, maximize=False,\n",
    "              early_stopping_rounds=10)\n",
    "print('CV score:', bst_cv2.iloc[-1,:]['test-mae-mean'])"
   ]
  },
  {
   "cell_type": "code",
   "execution_count": 101,
   "metadata": {},
   "outputs": [
    {
     "name": "stdout",
     "output_type": "stream",
     "text": [
      "    train-rmse-mean  train-rmse-std  test-rmse-mean  test-rmse-std  \\\n",
      "0          6.514312        0.002194        6.514300       0.005065   \n",
      "1          5.869834        0.002105        5.869850       0.005004   \n",
      "2          5.290482        0.002104        5.290446       0.004912   \n",
      "3          4.769722        0.001622        4.769830       0.005282   \n",
      "4          4.301769        0.001412        4.301910       0.005344   \n",
      "..              ...             ...             ...            ...   \n",
      "95         0.541518        0.000111        0.549056       0.000895   \n",
      "96         0.541291        0.000175        0.548898       0.000882   \n",
      "97         0.541027        0.000146        0.548750       0.000863   \n",
      "98         0.540766        0.000099        0.548555       0.000923   \n",
      "99         0.540587        0.000090        0.548459       0.000944   \n",
      "\n",
      "    train-mae-mean  train-mae-std  test-mae-mean  test-mae-std  \n",
      "0      3033.952230       8.528461    3033.952311     17.058441  \n",
      "1      3030.856933       8.526727    3030.856771     17.058236  \n",
      "2      3025.697591       8.528287    3025.696777     17.053735  \n",
      "3      3017.590820       8.525762    3017.591878     17.049824  \n",
      "4      3005.536051       8.516956    3005.539388     17.045843  \n",
      "..             ...            ...            ...           ...  \n",
      "95     1154.558594       1.729871    1173.428874      5.918797  \n",
      "96     1153.891357       1.662793    1172.964030      5.983090  \n",
      "97     1153.342163       1.753012    1172.654622      5.893077  \n",
      "98     1152.755859       1.909070    1172.260986      5.834936  \n",
      "99     1152.293864       1.951694    1172.059570      5.831419  \n",
      "\n",
      "[100 rows x 8 columns]\n"
     ]
    }
   ],
   "source": [
    "print(bst_cv2)"
   ]
  },
  {
   "cell_type": "code",
   "execution_count": 103,
   "metadata": {},
   "outputs": [
    {
     "data": {
      "text/plain": [
       "<matplotlib.legend.Legend at 0x292003b4608>"
      ]
     },
     "execution_count": 103,
     "metadata": {},
     "output_type": "execute_result"
    },
    {
     "data": {
      "image/png": "[encoded data removed]",
      "text/plain": [
       "<Figure size 864x432 with 2 Axes>"
      ]
     },
     "metadata": {
      "needs_background": "light"
     },
     "output_type": "display_data"
    }
   ],
   "source": [
    "fig,(ax1,ax2)=plt.subplots(1,2)\n",
    "fig.set_size_inches(12,6)\n",
    "ax1.set_title(\"100 rounds of training\")\n",
    "ax1.set_xlabel('Rounds')\n",
    "ax1.set_ylabel('Loss')\n",
    "ax1.grid(True)\n",
    "ax1.plot(bst_cv2[['train-mae-mean','test-mae-mean']])\n",
    "ax1.legend(['Training Loss','Test Loss'])\n",
    "\n",
    "ax2.set_title('60 last rounds of training')\n",
    "ax2.set_xlabel('Rounds')\n",
    "ax2.set_ylabel('Loss')\n",
    "ax2.grid(True)\n",
    "ax2.plot(bst_cv2[40:][['train-mae-mean','test-mae-mean']])\n",
    "ax2.legend(['Training Loss','Test Loss'])"
   ]
  },
  {
   "cell_type": "markdown",
   "metadata": {},
   "source": [
    "A little overfitting, but not a big deal\n",
    "New record MAE=1171.77，better than the first try（1218.9), now we are going to change other parameters"
   ]
  },
  {
   "cell_type": "markdown",
   "metadata": {},
   "source": [
    "XGBoost \n",
    "Step1: select a basic model\n",
    "Step2: tune max_depth and min_child_weight\n",
    "Step3: tune gamma\n",
    "step4: tune subsample and colsample_bytree\n",
    "step5: tune eta."
   ]
  },
  {
   "cell_type": "code",
   "execution_count": 127,
   "metadata": {},
   "outputs": [],
   "source": [
    "class XGBoostRegressor(object):\n",
    "    def __init__(self, **kwargs):\n",
    "        self.params = kwargs\n",
    "        if 'num_boost_round' in self.params:\n",
    "            self.num_boost_round = self.params['num_boost_round']\n",
    "        self.params.update({'silent':1, 'objective':'reg:linear', 'seed':0})\n",
    "    \n",
    "    def fit(self, x_train, y_train):\n",
    "        dtrain = xgb.DMatrix(x_train, y_train)\n",
    "        self.bst = xgb.train(params=self.params, dtrain=dtrain,\n",
    "                            num_boost_round=self.num_boost_round,\n",
    "                            feval=xg_eval_mae, maximize=False)\n",
    "    \n",
    "    def predict(self, x_pred):\n",
    "        dpred = xgb.DMatrix(x_pred)\n",
    "        return self.bst.predict(dpred)\n",
    "    \n",
    "    def kfold(self, x_train, y_train, nfold):\n",
    "        dtrain=xgb.DMatrix(x_train, y_train)\n",
    "        cv_rounds = xgb.cv(params=self.params, dtrain=dtrain,\n",
    "                          num_boost_round=self.num_boost_round,\n",
    "                          nfold=nfold, feval=xg_eval_mae,\n",
    "                          maximize=False, early_stopping_rounds=10)\n",
    "        return cv_rounds.iloc[-1,:]\n",
    "        \n",
    "    def plot_feature_importance(self):\n",
    "        feat_imp = pd.Series(self.bst.get_fscore()).sort_values(ascending=False)\n",
    "        feat_imp.plot(title='Feature Importance')\n",
    "        plt.ylabel('Feature Importance Score')\n",
    "    \n",
    "    def get_params(self, deep=True):\n",
    "        return self.params\n",
    "    \n",
    "    def set_params(self, **params):\n",
    "        self.params.update(params)\n",
    "        return self    "
   ]
  },
  {
   "cell_type": "code",
   "execution_count": 126,
   "metadata": {},
   "outputs": [
    {
     "data": {
      "text/plain": [
       "<function __main__.xg_eval_mae(yhat, dtrain)>"
      ]
     },
     "execution_count": 126,
     "metadata": {},
     "output_type": "execute_result"
    }
   ],
   "source": [
    "xg_eval_mae"
   ]
  },
  {
   "cell_type": "code",
   "execution_count": 128,
   "metadata": {},
   "outputs": [],
   "source": [
    "def mae_score(y_true, y_pred):\n",
    "    return mean_absolute_error(np.exp(y_true), np.exp(y_pred))\n",
    "\n",
    "mae_scorer = make_scorer(mae_score, greater_is_better=False)"
   ]
  },
  {
   "cell_type": "code",
   "execution_count": 129,
   "metadata": {},
   "outputs": [],
   "source": [
    "bst = XGBoostRegressor(eta=0.1, colsample_bytree=0.5, subsample=0.5,\n",
    "                      max_depth=5, min_child_weight=3, num_boost_round=50)"
   ]
  },
  {
   "cell_type": "code",
   "execution_count": 130,
   "metadata": {},
   "outputs": [
    {
     "name": "stdout",
     "output_type": "stream",
     "text": [
      "        cat1  cat2  cat3  cat4  cat5  cat6  cat7  cat8  cat9  cat10  ...  \\\n",
      "0          0     1     0     1     0     0     0     0     1      0  ...   \n",
      "1          0     1     0     0     0     0     0     0     1      1  ...   \n",
      "2          0     1     0     0     1     0     0     0     1      1  ...   \n",
      "3          1     1     0     1     0     0     0     0     1      0  ...   \n",
      "4          0     1     0     1     0     0     0     0     1      1  ...   \n",
      "...      ...   ...   ...   ...   ...   ...   ...   ...   ...    ...  ...   \n",
      "188313     0     1     0     0     0     0     0     0     1      0  ...   \n",
      "188314     0     0     0     0     0     1     0     0     0      0  ...   \n",
      "188315     0     1     0     0     0     0     0     1     1      0  ...   \n",
      "188316     0     1     0     0     0     0     0     0     1      1  ...   \n",
      "188317     1     0     0     1     0     0     0     0     0      0  ...   \n",
      "\n",
      "           cont5     cont6     cont7    cont8    cont9   cont10    cont11  \\\n",
      "0       0.310061  0.718367  0.335060  0.30260  0.67135  0.83510  0.569745   \n",
      "1       0.885834  0.438917  0.436585  0.60087  0.35127  0.43919  0.338312   \n",
      "2       0.397069  0.289648  0.315545  0.27320  0.26076  0.32446  0.381398   \n",
      "3       0.422268  0.440945  0.391128  0.31796  0.32128  0.44467  0.327915   \n",
      "4       0.704268  0.178193  0.247408  0.24564  0.22089  0.21230  0.204687   \n",
      "...          ...       ...       ...      ...      ...      ...       ...   \n",
      "188313  0.939556  0.242437  0.289949  0.24564  0.30859  0.32935  0.223038   \n",
      "188314  0.704268  0.334270  0.382000  0.63475  0.40455  0.47779  0.307628   \n",
      "188315  0.482436  0.345883  0.370534  0.24564  0.45808  0.47779  0.445614   \n",
      "188316  0.340543  0.704364  0.562866  0.34987  0.44767  0.53881  0.863052   \n",
      "188317  0.281143  0.844563  0.533048  0.97123  0.93383  0.83814  0.932195   \n",
      "\n",
      "          cont12    cont13    cont14  \n",
      "0       0.594646  0.822493  0.714843  \n",
      "1       0.366307  0.611431  0.304496  \n",
      "2       0.373424  0.195709  0.774425  \n",
      "3       0.321570  0.605077  0.602642  \n",
      "4       0.202213  0.246011  0.432606  \n",
      "...          ...       ...       ...  \n",
      "188313  0.220003  0.333292  0.208216  \n",
      "188314  0.301921  0.318646  0.305872  \n",
      "188315  0.443374  0.339244  0.503888  \n",
      "188316  0.852865  0.654753  0.721707  \n",
      "188317  0.946432  0.810511  0.721460  \n",
      "\n",
      "[188318 rows x 130 columns]\n",
      "0         7.702186\n",
      "1         7.157424\n",
      "2         8.008063\n",
      "3         6.845720\n",
      "4         7.924380\n",
      "            ...   \n",
      "188313    7.088926\n",
      "188314    7.010619\n",
      "188315    8.659151\n",
      "188316    7.354279\n",
      "188317    8.466262\n",
      "Name: log_loss, Length: 188318, dtype: float64\n"
     ]
    }
   ],
   "source": [
    "print(train_x)\n",
    "print(train_y)"
   ]
  },
  {
   "cell_type": "code",
   "execution_count": 133,
   "metadata": {},
   "outputs": [
    {
     "name": "stdout",
     "output_type": "stream",
     "text": [
      "Wall time: 4min 25s\n"
     ]
    },
    {
     "data": {
      "text/plain": [
       "train-rmse-mean       0.558928\n",
       "train-rmse-std        0.001003\n",
       "test-rmse-mean        0.562664\n",
       "test-rmse-std         0.002445\n",
       "train-mae-mean     1209.707324\n",
       "train-mae-std         3.004207\n",
       "test-mae-mean      1218.884204\n",
       "test-mae-std          8.982969\n",
       "Name: 49, dtype: float64"
      ]
     },
     "execution_count": 133,
     "metadata": {},
     "output_type": "execute_result"
    }
   ],
   "source": [
    "%%time\n",
    "bst.kfold(train_x, train_y, 5)"
   ]
  },
  {
   "cell_type": "markdown",
   "metadata": {},
   "source": [
    "# Step1: Basic Model"
   ]
  },
  {
   "cell_type": "markdown",
   "metadata": {},
   "source": [
    "# Step2: max_depth and min_child_weight"
   ]
  },
  {
   "cell_type": "markdown",
   "metadata": {},
   "source": [
    "这些参数对xgboost的性能影响最大，因此，他们应该调整第一，我们简要的概述他们：\n",
    "max_depth: 输的最大深度，增加这个值会更加复杂，也容易出现国力和，深度3-10是合理的。\n",
    "min_child_weight:正则化参数，如果树分区中的实例权重小于定义的总和，则停止树的构建过程"
   ]
  },
  {
   "cell_type": "code",
   "execution_count": 135,
   "metadata": {},
   "outputs": [
    {
     "data": {
      "text/plain": [
       "[4, 5]"
      ]
     },
     "execution_count": 135,
     "metadata": {},
     "output_type": "execute_result"
    }
   ],
   "source": [
    "xgb_param_grid = {'max_depth':list(range(4,5)),\n",
    "                 'min_child_weight':list((1,3))}\n",
    "xgb_param_grid['max_depth']"
   ]
  },
  {
   "cell_type": "code",
   "execution_count": 138,
   "metadata": {},
   "outputs": [
    {
     "name": "stdout",
     "output_type": "stream",
     "text": [
      "Wall time: 8min 17s\n"
     ]
    },
    {
     "data": {
      "text/plain": [
       "GridSearchCV(cv=3, error_score=nan,\n",
       "             estimator=<__main__.XGBoostRegressor object at 0x000002920032FBC8>,\n",
       "             iid='deprecated', n_jobs=None,\n",
       "             param_grid={'max_depth': [4, 5], 'min_child_weight': [1, 3]},\n",
       "             pre_dispatch='2*n_jobs', refit=True, return_train_score=False,\n",
       "             scoring=make_scorer(mae_score, greater_is_better=False),\n",
       "             verbose=0)"
      ]
     },
     "execution_count": 138,
     "metadata": {},
     "output_type": "execute_result"
    }
   ],
   "source": [
    "%%time\n",
    "grid = GridSearchCV(XGBoostRegressor(eta=0.1, num_boost_round=50,\n",
    "                                    colsample_bytree=0.5, subsample=0.5),\n",
    "                                    param_grid=xgb_param_grid, cv=3,\n",
    "                                    scoring=mae_scorer)\n",
    "grid.fit(train_x, train_y.values)"
   ]
  },
  {
   "cell_type": "code",
   "execution_count": 136,
   "metadata": {},
   "outputs": [
    {
     "data": {
      "text/plain": [
       "array([7.70218567, 7.15742391, 8.0080628 , ..., 8.65915098, 7.35427915,\n",
       "       8.46626194])"
      ]
     },
     "execution_count": 136,
     "metadata": {},
     "output_type": "execute_result"
    }
   ],
   "source": [
    "train_y.values"
   ]
  },
  {
   "cell_type": "code",
   "execution_count": 154,
   "metadata": {},
   "outputs": [
    {
     "data": {
      "text/plain": [
       "{'mean_fit_time': array([32.13974182, 33.30707351, 39.99580836, 38.50029174]),\n",
       " 'std_fit_time': array([0.48960497, 1.29629296, 0.86824301, 0.56282353]),\n",
       " 'mean_score_time': array([0.5638109 , 0.61566567, 0.60440071, 0.60217333]),\n",
       " 'std_score_time': array([0.04425215, 0.06221626, 0.02160686, 0.03156363]),\n",
       " 'param_max_depth': masked_array(data=[4, 4, 5, 5],\n",
       "              mask=[False, False, False, False],\n",
       "        fill_value='?',\n",
       "             dtype=object),\n",
       " 'param_min_child_weight': masked_array(data=[1, 3, 1, 3],\n",
       "              mask=[False, False, False, False],\n",
       "        fill_value='?',\n",
       "             dtype=object),\n",
       " 'params': [{'max_depth': 4, 'min_child_weight': 1},\n",
       "  {'max_depth': 4, 'min_child_weight': 3},\n",
       "  {'max_depth': 5, 'min_child_weight': 1},\n",
       "  {'max_depth': 5, 'min_child_weight': 3}],\n",
       " 'split0_test_score': array([-1238.47634292, -1238.56136064, -1217.56421906, -1215.8501873 ]),\n",
       " 'split1_test_score': array([-1246.35972057, -1247.2720473 , -1225.03657553, -1226.22948934]),\n",
       " 'split2_test_score': array([-1238.29240694, -1239.39330407, -1217.99216021, -1217.58972451]),\n",
       " 'mean_test_score': array([-1241.04282347, -1241.74223734, -1220.1976516 , -1219.88980038]),\n",
       " 'std_test_score': array([3.76036383, 3.92488906, 3.42609321, 4.53873987]),\n",
       " 'rank_test_score': array([3, 4, 2, 1])}"
      ]
     },
     "execution_count": 154,
     "metadata": {},
     "output_type": "execute_result"
    }
   ],
   "source": [
    "grid.cv_results_"
   ]
  },
  {
   "cell_type": "code",
   "execution_count": 157,
   "metadata": {},
   "outputs": [
    {
     "name": "stdout",
     "output_type": "stream",
     "text": [
      "   mean_fit_time  std_fit_time  mean_score_time  std_score_time  \\\n",
      "0      32.139742      0.489605         0.563811        0.044252   \n",
      "1      33.307074      1.296293         0.615666        0.062216   \n",
      "2      39.995808      0.868243         0.604401        0.021607   \n",
      "3      38.500292      0.562824         0.602173        0.031564   \n",
      "\n",
      "  param_max_depth param_min_child_weight  \\\n",
      "0               4                      1   \n",
      "1               4                      3   \n",
      "2               5                      1   \n",
      "3               5                      3   \n",
      "\n",
      "                                    params  split0_test_score  \\\n",
      "0  {'max_depth': 4, 'min_child_weight': 1}       -1238.476343   \n",
      "1  {'max_depth': 4, 'min_child_weight': 3}       -1238.561361   \n",
      "2  {'max_depth': 5, 'min_child_weight': 1}       -1217.564219   \n",
      "3  {'max_depth': 5, 'min_child_weight': 3}       -1215.850187   \n",
      "\n",
      "   split1_test_score  split2_test_score  mean_test_score  std_test_score  \\\n",
      "0       -1246.359721       -1238.292407     -1241.042823        3.760364   \n",
      "1       -1247.272047       -1239.393304     -1241.742237        3.924889   \n",
      "2       -1225.036576       -1217.992160     -1220.197652        3.426093   \n",
      "3       -1226.229489       -1217.589725     -1219.889800        4.538740   \n",
      "\n",
      "   rank_test_score  \n",
      "0                3  \n",
      "1                4  \n",
      "2                2  \n",
      "3                1  \n"
     ]
    }
   ],
   "source": [
    "df = pd.DataFrame(grid.cv_results_)\n",
    "print(df)"
   ]
  },
  {
   "cell_type": "code",
   "execution_count": 151,
   "metadata": {},
   "outputs": [
    {
     "data": {
      "text/plain": [
       "({'max_depth': 5, 'min_child_weight': 3}, -1219.88980038323)"
      ]
     },
     "execution_count": 151,
     "metadata": {},
     "output_type": "execute_result"
    }
   ],
   "source": [
    "grid.best_params_, grid.best_score_"
   ]
  },
  {
   "cell_type": "markdown",
   "metadata": {},
   "source": [
    "网格搜索发现的最佳结果是：\n",
    "设置成负的是因为要找最大的值"
   ]
  },
  {
   "cell_type": "code",
   "execution_count": 163,
   "metadata": {},
   "outputs": [
    {
     "name": "stdout",
     "output_type": "stream",
     "text": [
      "0   -1241.042823\n",
      "1   -1241.742237\n",
      "2   -1220.197652\n",
      "3   -1219.889800\n",
      "Name: mean_test_score, dtype: float64\n"
     ]
    }
   ],
   "source": [
    "_params = df[\"mean_test_score\"]\n",
    "print(_params)"
   ]
  },
  {
   "cell_type": "markdown",
   "metadata": {},
   "source": [
    "# Step3: tuning gamma to reduce the overfitting risk"
   ]
  },
  {
   "cell_type": "code",
   "execution_count": null,
   "metadata": {},
   "outputs": [],
   "source": [
    "%%time\n",
    "xgb_param_grid = {'gamma':[0.1*i for i in range(0,5)]}\n",
    "\n",
    "grid = GridSearchCV(XGBoostRegressor(eta=0.1, num_boost_round=50,\n",
    "                                    max_depth=8, min_child_weight=6,\n",
    "                                    colsample_bytree=0.5, subsample=0.5),\n",
    "                   param_grid=xgb_param_grid, cv=5, scoring=mae_scorer)\n",
    "\n",
    "grid.fit(train_x, train_y.values)"
   ]
  },
  {
   "cell_type": "code",
   "execution_count": null,
   "metadata": {},
   "outputs": [],
   "source": [
    "grid.best_params_, grid.best_score_"
   ]
  },
  {
   "cell_type": "markdown",
   "metadata": {},
   "source": [
    "# Step4: Tuning the sampling method, subsample and colsample_bytree"
   ]
  },
  {
   "cell_type": "code",
   "execution_count": null,
   "metadata": {},
   "outputs": [],
   "source": [
    "%%time\n",
    "xgb_param_grid = {'subsample':[0.1*i for i in range(6,9)],\n",
    "                 'colsample_bytree':[0.1*i for i in range(6,9)]}\n",
    "grid = GridSearchCV(XGBoostRegressor(eta=0.1, num_boost_round=50,gamma=0.2\n",
    "                                    max_depth=8, min_child_weight=6),\n",
    "                   param_grid=xgb_param_grid, cv=5, scoring=mae_scorer)\n",
    "\n",
    "grid.fit(train_x, train_y.values)"
   ]
  },
  {
   "cell_type": "code",
   "execution_count": null,
   "metadata": {},
   "outputs": [],
   "source": [
    "grid.grid_scores, grid.best_params_, grid.best_score_"
   ]
  },
  {
   "cell_type": "markdown",
   "metadata": {},
   "source": [
    "# Step5: Tuning the eta"
   ]
  },
  {
   "cell_type": "code",
   "execution_count": null,
   "metadata": {},
   "outputs": [],
   "source": [
    "%%time\n",
    "xgb_param_grid = {'eta':[0.5,0.4,0.3,0.2,0.1,0.075,0.05,0.04,0.03]}\n",
    "grid = GridSearchCV(XGBoostRegressor(num_boost_round=100, gamma=0.2, max_depth=8, min_child_weight=6,\n",
    "                                    colsample_bytree=0.6, subsample=0.9),\n",
    "                   param_grd=xgb.param_grid, cv=5, scoring=mae_scorer)\n",
    "grid.fit(train_x, train_y.values)"
   ]
  },
  {
   "cell_type": "code",
   "execution_count": null,
   "metadata": {},
   "outputs": [],
   "source": [
    "grid.grid_scores, grid.best_params_, grid.best_score_"
   ]
  },
  {
   "cell_type": "markdown",
   "metadata": {},
   "source": [
    "# Summary: \n",
    "the best MAE here we get is 1171,45\n",
    "best parameters are:\n",
    "num_boost_round=200,\n",
    "gamma=0.2,\n",
    "max_depth=8,\n",
    "min_child_weight=6,\n",
    "colsample_bytree=0.6,\n",
    "subsample=0.9,\n",
    "eta =0.07\n"
   ]
  }
 ],
 "metadata": {
  "kernelspec": {
   "display_name": "Python 3",
   "language": "python",
   "name": "python3"
  },
  "language_info": {
   "codemirror_mode": {
    "name": "ipython",
    "version": 3
   },
   "file_extension": ".py",
   "mimetype": "text/x-python",
   "name": "python",
   "nbconvert_exporter": "python",
   "pygments_lexer": "ipython3",
   "version": "3.7.6"
  }
 },
 "nbformat": 4,
 "nbformat_minor": 4
}
